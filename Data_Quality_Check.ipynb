{
 "cells": [
  {
   "cell_type": "code",
   "execution_count": 1,
   "id": "0ef1fc4c-b0a8-4717-97c4-979235d5277f",
   "metadata": {},
   "outputs": [],
   "source": [
    "import pandas as pd"
   ]
  },
  {
   "cell_type": "code",
   "execution_count": 7,
   "id": "95a640f4-c29a-4244-91b7-7751ebeebb63",
   "metadata": {},
   "outputs": [],
   "source": [
    "# Step 1: Load the dataset\n",
    "# Replace 'augmented_dataset.csv' with the actual file name\n",
    "data = pd.read_csv('cattle_growth_data.csv')"
   ]
  },
  {
   "cell_type": "code",
   "execution_count": 9,
   "id": "dee8d597-5d55-4c64-a196-de3836fa5442",
   "metadata": {},
   "outputs": [],
   "source": [
    "# Step 2: Define Quality checks functions\n",
    "\n",
    "def check_missing_values(df):\n",
    "    \"\"\"Check for missing values in the dataset.\"\"\"\n",
    "    missing_values = df.isnull().sum()\n",
    "    print(\"Missing Values:\\n\", missing_values)\n",
    "\n",
    "\n",
    "def check_duplicates(df):\n",
    "    \"\"\"Check for duplicate rows in the dataset.\"\"\"\n",
    "    duplicates = df.duplicated().sum()\n",
    "    print(f\"Number of duplicate rows: {duplicates}\")"
   ]
  },
  {
   "cell_type": "code",
   "execution_count": 11,
   "id": "fd791c17-605a-4ec9-9a9d-9d15035f67dc",
   "metadata": {},
   "outputs": [],
   "source": [
    "def check_negative_values(df, columns):\n",
    "    \"\"\"Check for negative values in specified columns.\"\"\"\n",
    "    for col in columns:\n",
    "        negative_count = (df[col] < 0).sum()\n",
    "        print(f\"Negative values in {col}: {negative_count}\")\n",
    "\n",
    "\n",
    "def check_value_ranges(df):\n",
    "    \"\"\"Check if values are within acceptable ranges.\"\"\"\n",
    "    invalid_age = df[~df['Age_Months'].between(0, 240)]  # Assuming age range is 0-240 months\n",
    "    invalid_weight = df[~df['Weight_kg'].between(0, 200)]  # Assuming weight range is 0-200 kg\n",
    "\n",
    "    print(f\"Rows with invalid age: {len(invalid_age)}\")\n",
    "    print(f\"Rows with invalid weight: {len(invalid_weight)}\")"
   ]
  },
  {
   "cell_type": "code",
   "execution_count": 13,
   "id": "690ba074-5246-4a20-b717-0c6d6eb35894",
   "metadata": {},
   "outputs": [],
   "source": [
    "def check_outliers(df, columns):\n",
    "    \"\"\"Check for outliers using the IQR method.\"\"\"\n",
    "    for col in columns:\n",
    "        Q1 = df[col].quantile(0.25)\n",
    "        Q3 = df[col].quantile(0.75)\n",
    "        IQR = Q3 - Q1\n",
    "        lower_bound = Q1 - 1.5 * IQR\n",
    "        upper_bound = Q3 + 1.5 * IQR\n",
    "\n",
    "        outliers = df[(df[col] < lower_bound) | (df[col] > upper_bound)]\n",
    "        print(f\"Outliers in {col}: {len(outliers)}\")"
   ]
  },
  {
   "cell_type": "code",
   "execution_count": 15,
   "id": "facaa9fa-012b-4017-93ba-a591f354ae36",
   "metadata": {},
   "outputs": [
    {
     "name": "stdout",
     "output_type": "stream",
     "text": [
      "Starting data quality checks...\n",
      "\n",
      "Missing Values:\n",
      " ID             0\n",
      "Age_Months     0\n",
      "breed_group    0\n",
      "Weight_kg      0\n",
      "dtype: int64\n",
      "Number of duplicate rows: 0\n",
      "Negative values in Age_Months: 0\n",
      "Negative values in Weight_kg: 0\n",
      "Rows with invalid age: 0\n",
      "Rows with invalid weight: 643\n",
      "Outliers in Age_Months: 3\n",
      "Outliers in Weight_kg: 11\n",
      "\n",
      "Data quality checks completed.\n"
     ]
    }
   ],
   "source": [
    "# Step 3: Perform data quality checks\n",
    "print(\"Starting data quality checks...\\n\")\n",
    "\n",
    "check_missing_values(data)\n",
    "check_duplicates(data)\n",
    "check_negative_values(data, ['Age_Months', 'Weight_kg'])\n",
    "check_value_ranges(data)\n",
    "check_outliers(data, ['Age_Months', 'Weight_kg'])\n",
    "\n",
    "print(\"\\nData quality checks completed.\")"
   ]
  }
 ],
 "metadata": {
  "kernelspec": {
   "display_name": "Python 3 (ipykernel)",
   "language": "python",
   "name": "python3"
  },
  "language_info": {
   "codemirror_mode": {
    "name": "ipython",
    "version": 3
   },
   "file_extension": ".py",
   "mimetype": "text/x-python",
   "name": "python",
   "nbconvert_exporter": "python",
   "pygments_lexer": "ipython3",
   "version": "3.12.7"
  }
 },
 "nbformat": 4,
 "nbformat_minor": 5
}
